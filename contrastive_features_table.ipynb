{
 "cells": [
  {
   "cell_type": "code",
   "execution_count": 29,
   "metadata": {},
   "outputs": [],
   "source": [
    "import matplotlib.pyplot as plt\n",
    "import numpy as np\n",
    "BATCH_SIZE_LETTER = 'K'"
   ]
  },
  {
   "cell_type": "code",
   "execution_count": 30,
   "metadata": {},
   "outputs": [
    {
     "data": {
      "image/png": "[encoded data removed]",
      "text/plain": [
       "<Figure size 220x220 with 1 Axes>"
      ]
     },
     "metadata": {},
     "output_type": "display_data"
    }
   ],
   "source": [
    "# Create figure and axis\n",
    "fig, ax = plt.subplots(figsize=(2.2, 2.2))\n",
    "\n",
    "# Turn off axis\n",
    "ax.set_axis_off()\n",
    "\n",
    "# Create the table data structure (5x5)\n",
    "table_data = []\n",
    "for i in range(5):\n",
    "    row = []\n",
    "    for j in range(5):\n",
    "        # Create latex string for cell\n",
    "        if i == 3 or j == 3:\n",
    "            cell_text = '...'\n",
    "        else:\n",
    "            # Use K instead of 5 for the last index\n",
    "            i_label = BATCH_SIZE_LETTER if i == 4 else str(i+1)\n",
    "            j_label = BATCH_SIZE_LETTER if j == 4 else str(j+1)\n",
    "            cell_text = f'$f_{i_label} \\\\cdot f_{j_label}\\'$'\n",
    "        row.append(cell_text)\n",
    "    table_data.append(row)\n",
    "\n",
    "# Create the table\n",
    "table = ax.table(cellText=table_data,\n",
    "                loc='center',\n",
    "                cellLoc='center',\n",
    "                edges='closed')\n",
    "\n",
    "# Style the table\n",
    "table.set_fontsize(12)\n",
    "table.scale(1, 1.5)  # Make cells more square-like\n",
    "for cell in table._cells.values():\n",
    "    cell.set_text_props(fontfamily='Arial')\n",
    "\n",
    "# Style each cell\n",
    "for pos, cell in table._cells.items():\n",
    "    i, j = pos\n",
    "    cell.set_edgecolor('black')\n",
    "    \n",
    "    # Set diagonal cells to gray, others to white\n",
    "    if i == j:\n",
    "        cell.set_facecolor('#E0E0E0')  # Light gray\n",
    "    else:\n",
    "        cell.set_facecolor('white')\n",
    "    \n",
    "    # Make cells square by setting equal width/height\n",
    "    cell.set_height(1/5)\n",
    "    cell.set_width(1/5)\n",
    "\n",
    "plt.savefig('contrastive_features_table.pdf', bbox_inches='tight')\n"
   ]
  },
  {
   "cell_type": "code",
   "execution_count": 31,
   "metadata": {},
   "outputs": [
    {
     "data": {
      "image/png": "[encoded data removed]",
      "text/plain": [
       "<Figure size 220x40 with 1 Axes>"
      ]
     },
     "metadata": {},
     "output_type": "display_data"
    }
   ],
   "source": [
    "# Define colors as global variables\n",
    "GRAY_COLOR = '#000'  # Medium gray for text and borders\n",
    "\n",
    "# Create figure and axis\n",
    "fig, ax = plt.subplots(figsize=(2.2, 0.4))\n",
    "\n",
    "# Turn off axis\n",
    "ax.set_axis_off()\n",
    "\n",
    "# Create the table data structure (1x5)\n",
    "table_data = []\n",
    "row = []\n",
    "for j in range(5):\n",
    "    # Create latex string for cell\n",
    "    if j == 3:\n",
    "        cell_text = '...'\n",
    "    else:\n",
    "        # Use K instead of 5 for the last index\n",
    "        j_label = BATCH_SIZE_LETTER if j == 4 else str(j+1)\n",
    "        cell_text = f'$f_{j_label}\\'$'\n",
    "    row.append(cell_text)\n",
    "table_data.append(row)\n",
    "\n",
    "# Create the table\n",
    "table = ax.table(cellText=table_data,\n",
    "                loc='center',\n",
    "                cellLoc='center',\n",
    "                edges='closed')\n",
    "\n",
    "# Style the table\n",
    "table.set_fontsize(10)\n",
    "table.scale(1, 1.5)  # Make cells more square-like\n",
    "for cell in table._cells.values():\n",
    "    cell.set_text_props(fontfamily='Arial', color=GRAY_COLOR)\n",
    "\n",
    "# Style each cell\n",
    "for pos, cell in table._cells.items():\n",
    "    i, j = pos\n",
    "    cell.set_edgecolor(GRAY_COLOR)\n",
    "    \n",
    "    # Set diagonal cells to gray, others to white\n",
    "    cell.set_facecolor('white')\n",
    "    \n",
    "    # Make cells square by setting equal width/height\n",
    "    cell.set_height(1)  # Changed from 1/5 since we only have 1 row\n",
    "    cell.set_width(1/5)\n",
    "\n",
    "plt.savefig('contrastive_features_table_first_row.pdf', bbox_inches='tight')\n"
   ]
  },
  {
   "cell_type": "code",
   "execution_count": 32,
   "metadata": {},
   "outputs": [
    {
     "data": {
      "image/png": "[encoded data removed]",
      "text/plain": [
       "<Figure size 45x220 with 1 Axes>"
      ]
     },
     "metadata": {},
     "output_type": "display_data"
    }
   ],
   "source": [
    "# Create figure and axis\n",
    "fig, ax = plt.subplots(figsize=(0.45, 2.2))\n",
    "\n",
    "# Turn off axis\n",
    "ax.set_axis_off()\n",
    "\n",
    "# Create the table data structure (5x1)\n",
    "table_data = []\n",
    "for i in range(5):\n",
    "    # Create latex string for cell\n",
    "    if i == 3:\n",
    "        cell_text = '...'\n",
    "    else:\n",
    "        # Use K instead of 5 for the last index\n",
    "        i_label = BATCH_SIZE_LETTER if i == 4 else str(i+1)\n",
    "        cell_text = f'$f_{i_label}$'\n",
    "    table_data.append([cell_text])\n",
    "\n",
    "# Create the table\n",
    "table = ax.table(cellText=table_data,\n",
    "                loc='center',\n",
    "                cellLoc='center',\n",
    "                edges='closed')\n",
    "\n",
    "# Style the table\n",
    "table.set_fontsize(10)\n",
    "table.scale(1.5, 1)  # Make cells more square-like\n",
    "for cell in table._cells.values():\n",
    "    cell.set_text_props(fontfamily='Arial')\n",
    "\n",
    "# Style each cell\n",
    "for pos, cell in table._cells.items():\n",
    "    i, j = pos\n",
    "    cell.set_edgecolor('black')\n",
    "    \n",
    "    cell.set_facecolor('white')\n",
    "    \n",
    "    # Make cells square by setting equal width/height\n",
    "    cell.set_height(1/5)\n",
    "    cell.set_width(1)  # Changed since we only have 1 column\n",
    "\n",
    "plt.savefig('contrastive_features_table_first_column.pdf', bbox_inches='tight')\n"
   ]
  },
  {
   "cell_type": "code",
   "execution_count": null,
   "metadata": {},
   "outputs": [],
   "source": []
  }
 ],
 "metadata": {
  "kernelspec": {
   "display_name": "Python 3",
   "language": "python",
   "name": "python3"
  },
  "language_info": {
   "codemirror_mode": {
    "name": "ipython",
    "version": 3
   },
   "file_extension": ".py",
   "mimetype": "text/x-python",
   "name": "python",
   "nbconvert_exporter": "python",
   "pygments_lexer": "ipython3",
   "version": "3.8.3"
  }
 },
 "nbformat": 4,
 "nbformat_minor": 2
}
